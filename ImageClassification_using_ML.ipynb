{
  "nbformat": 4,
  "nbformat_minor": 0,
  "metadata": {
    "colab": {
      "name": "ImageClassification using ML.ipynb",
      "provenance": [],
      "collapsed_sections": [],
      "authorship_tag": "ABX9TyNSdthFqrHt2MGAv1DmZnYA",
      "include_colab_link": true
    },
    "kernelspec": {
      "display_name": "Python 3",
      "name": "python3"
    },
    "language_info": {
      "name": "python"
    }
  },
  "cells": [
    {
      "cell_type": "markdown",
      "metadata": {
        "id": "view-in-github",
        "colab_type": "text"
      },
      "source": [
        "<a href=\"https://colab.research.google.com/github/aarati0122/Image-Classification/blob/main/ImageClassification_using_ML.ipynb\" target=\"_parent\"><img src=\"https://colab.research.google.com/assets/colab-badge.svg\" alt=\"Open In Colab\"/></a>"
      ]
    },
    {
      "cell_type": "code",
      "metadata": {
        "colab": {
          "base_uri": "https://localhost:8080/"
        },
        "id": "Mw5bmlOEGUMu",
        "outputId": "7253c808-fc46-4972-9b28-0b22d31fd86f"
      },
      "source": [
        "!pip install ipython-autotime\n",
        "%load_ext autotime"
      ],
      "execution_count": 1,
      "outputs": [
        {
          "output_type": "stream",
          "text": [
            "Collecting ipython-autotime\n",
            "  Downloading https://files.pythonhosted.org/packages/b4/c9/b413a24f759641bc27ef98c144b590023c8038dfb8a3f09e713e9dff12c1/ipython_autotime-0.3.1-py2.py3-none-any.whl\n",
            "Requirement already satisfied: ipython in /usr/local/lib/python3.7/dist-packages (from ipython-autotime) (5.5.0)\n",
            "Requirement already satisfied: traitlets>=4.2 in /usr/local/lib/python3.7/dist-packages (from ipython->ipython-autotime) (5.0.5)\n",
            "Requirement already satisfied: simplegeneric>0.8 in /usr/local/lib/python3.7/dist-packages (from ipython->ipython-autotime) (0.8.1)\n",
            "Requirement already satisfied: pexpect; sys_platform != \"win32\" in /usr/local/lib/python3.7/dist-packages (from ipython->ipython-autotime) (4.8.0)\n",
            "Requirement already satisfied: decorator in /usr/local/lib/python3.7/dist-packages (from ipython->ipython-autotime) (4.4.2)\n",
            "Requirement already satisfied: prompt-toolkit<2.0.0,>=1.0.4 in /usr/local/lib/python3.7/dist-packages (from ipython->ipython-autotime) (1.0.18)\n",
            "Requirement already satisfied: pygments in /usr/local/lib/python3.7/dist-packages (from ipython->ipython-autotime) (2.6.1)\n",
            "Requirement already satisfied: pickleshare in /usr/local/lib/python3.7/dist-packages (from ipython->ipython-autotime) (0.7.5)\n",
            "Requirement already satisfied: setuptools>=18.5 in /usr/local/lib/python3.7/dist-packages (from ipython->ipython-autotime) (56.0.0)\n",
            "Requirement already satisfied: ipython-genutils in /usr/local/lib/python3.7/dist-packages (from traitlets>=4.2->ipython->ipython-autotime) (0.2.0)\n",
            "Requirement already satisfied: ptyprocess>=0.5 in /usr/local/lib/python3.7/dist-packages (from pexpect; sys_platform != \"win32\"->ipython->ipython-autotime) (0.7.0)\n",
            "Requirement already satisfied: six>=1.9.0 in /usr/local/lib/python3.7/dist-packages (from prompt-toolkit<2.0.0,>=1.0.4->ipython->ipython-autotime) (1.15.0)\n",
            "Requirement already satisfied: wcwidth in /usr/local/lib/python3.7/dist-packages (from prompt-toolkit<2.0.0,>=1.0.4->ipython->ipython-autotime) (0.2.5)\n",
            "Installing collected packages: ipython-autotime\n",
            "Successfully installed ipython-autotime-0.3.1\n",
            "time: 3.47 ms (started: 2021-04-27 15:18:26 +00:00)\n"
          ],
          "name": "stdout"
        }
      ]
    },
    {
      "cell_type": "code",
      "metadata": {
        "colab": {
          "base_uri": "https://localhost:8080/"
        },
        "id": "pTBZIPNK8iav",
        "outputId": "878f8d0e-25a7-4817-ac69-718289b402c8"
      },
      "source": [
        "!pip install bing-image-downloader"
      ],
      "execution_count": 2,
      "outputs": [
        {
          "output_type": "stream",
          "text": [
            "Collecting bing-image-downloader\n",
            "  Downloading https://files.pythonhosted.org/packages/0d/bf/537a61030b84ae4cd5022d5c7b014fd9bc3ce7c02358919153a6658a61d3/bing_image_downloader-1.0.4-py3-none-any.whl\n",
            "Installing collected packages: bing-image-downloader\n",
            "Successfully installed bing-image-downloader-1.0.4\n",
            "time: 3.13 s (started: 2021-04-27 15:18:26 +00:00)\n"
          ],
          "name": "stdout"
        }
      ]
    },
    {
      "cell_type": "code",
      "metadata": {
        "colab": {
          "base_uri": "https://localhost:8080/"
        },
        "id": "2dsKNPhG8y1o",
        "outputId": "18380906-89ef-4b8b-c472-0dbd67733827"
      },
      "source": [
        "# from bing_image_downloader import downloader\n",
        "# downloader.download(\"bicycles\", limit=30,  output_dir='images', adult_filter_off=True, force_replace=False, timeout=60)"
      ],
      "execution_count": 3,
      "outputs": [
        {
          "output_type": "stream",
          "text": [
            "time: 857 µs (started: 2021-04-27 15:18:29 +00:00)\n"
          ],
          "name": "stdout"
        }
      ]
    },
    {
      "cell_type": "code",
      "metadata": {
        "colab": {
          "base_uri": "https://localhost:8080/"
        },
        "id": "xvsWtYOCAURj",
        "outputId": "f10bc12e-6c82-46c7-ae29-56c60fb4f20a"
      },
      "source": [
        "# Preprocessing\n",
        "# use flatten - to convert matrix into vector"
      ],
      "execution_count": 4,
      "outputs": [
        {
          "output_type": "stream",
          "text": [
            "time: 673 µs (started: 2021-04-27 15:18:29 +00:00)\n"
          ],
          "name": "stdout"
        }
      ]
    },
    {
      "cell_type": "code",
      "metadata": {
        "colab": {
          "base_uri": "https://localhost:8080/"
        },
        "id": "oSq1pJhqGSNy",
        "outputId": "22e80b82-73aa-4c4e-c1ab-dd44a75b934d"
      },
      "source": [
        "import os\n",
        "import matplotlib.pyplot as plt\n",
        "import numpy as np\n",
        "from skimage.io import imread\n",
        "from skimage.transform import resize "
      ],
      "execution_count": 5,
      "outputs": [
        {
          "output_type": "stream",
          "text": [
            "time: 1.09 s (started: 2021-04-27 15:18:29 +00:00)\n"
          ],
          "name": "stdout"
        }
      ]
    },
    {
      "cell_type": "code",
      "metadata": {
        "colab": {
          "base_uri": "https://localhost:8080/"
        },
        "id": "SF0pxgrFJi0G",
        "outputId": "8eb99785-1184-48a1-abae-ad9409cdb4e8"
      },
      "source": [
        "target=[]\n",
        "images = []\n",
        "flatten_data =[]\n",
        "\n",
        "DATADIR = '/content/drive/MyDrive/ML Internship SmartKnower/ML/Minor Project/images'\n",
        "CATEGORIES =['Rainy','bicycle']\n",
        "\n",
        "for category in  CATEGORIES:\n",
        "      # print(category)\n",
        "  class_num = CATEGORIES.index(category)  # lable encoding the values\n",
        "  path = os.path.join(DATADIR,category) #create the path to use all the images\n",
        "  for img in os.listdir(path):\n",
        "    img_arr =  imread(os.path.join(path,img))\n",
        "    img_resize = resize(img_arr,(150,150,3)) # Value gets converted 0-1 from 0-255 (Normalization)\n",
        "    flatten_data.append(np.ndarray.flatten(img_resize))\n",
        "    images.append(img_resize)\n",
        "    target.append(class_num)\n",
        "\n",
        "flatten_data = np.array(flatten_data)\n",
        "target = np.array(target)\n",
        "images =np.array(images)"
      ],
      "execution_count": 6,
      "outputs": [
        {
          "output_type": "stream",
          "text": [
            "time: 23.1 s (started: 2021-04-27 15:18:30 +00:00)\n"
          ],
          "name": "stdout"
        }
      ]
    },
    {
      "cell_type": "code",
      "metadata": {
        "colab": {
          "base_uri": "https://localhost:8080/"
        },
        "id": "FL4Bw4GvLG84",
        "outputId": "56954755-4673-405a-89d6-23f0c11dd35a"
      },
      "source": [
        "flatten_data[0] #show the pixel value"
      ],
      "execution_count": 7,
      "outputs": [
        {
          "output_type": "execute_result",
          "data": {
            "text/plain": [
              "array([0.75529412, 0.76705882, 0.7945098 , ..., 0.4545098 , 0.42196078,\n",
              "       0.4145098 ])"
            ]
          },
          "metadata": {
            "tags": []
          },
          "execution_count": 7
        },
        {
          "output_type": "stream",
          "text": [
            "time: 9 ms (started: 2021-04-27 15:18:54 +00:00)\n"
          ],
          "name": "stdout"
        }
      ]
    },
    {
      "cell_type": "code",
      "metadata": {
        "colab": {
          "base_uri": "https://localhost:8080/"
        },
        "id": "J93ya6JgWcH-",
        "outputId": "a501727c-8cc1-421e-968e-4c1ab282176f"
      },
      "source": [
        "len(flatten_data[0])"
      ],
      "execution_count": 8,
      "outputs": [
        {
          "output_type": "execute_result",
          "data": {
            "text/plain": [
              "67500"
            ]
          },
          "metadata": {
            "tags": []
          },
          "execution_count": 8
        },
        {
          "output_type": "stream",
          "text": [
            "time: 6.49 ms (started: 2021-04-27 15:18:54 +00:00)\n"
          ],
          "name": "stdout"
        }
      ]
    },
    {
      "cell_type": "code",
      "metadata": {
        "colab": {
          "base_uri": "https://localhost:8080/"
        },
        "id": "1Yhf8dvyW1Ad",
        "outputId": "07d4dc3f-c83f-477f-dd72-4957b92f5594"
      },
      "source": [
        "target"
      ],
      "execution_count": 9,
      "outputs": [
        {
          "output_type": "execute_result",
          "data": {
            "text/plain": [
              "array([0, 0, 0, 0, 0, 0, 0, 0, 0, 0, 0, 0, 0, 0, 0, 0, 0, 0, 0, 0, 0, 0,\n",
              "       0, 0, 1, 1, 1, 1, 1, 1, 1, 1, 1, 1, 1, 1, 1, 1, 1, 1, 1, 1, 1, 1,\n",
              "       1, 1, 1, 1, 1, 1, 1, 1, 1, 1, 1, 1, 1, 1, 1, 1])"
            ]
          },
          "metadata": {
            "tags": []
          },
          "execution_count": 9
        },
        {
          "output_type": "stream",
          "text": [
            "time: 12.4 ms (started: 2021-04-27 15:18:54 +00:00)\n"
          ],
          "name": "stdout"
        }
      ]
    },
    {
      "cell_type": "code",
      "metadata": {
        "colab": {
          "base_uri": "https://localhost:8080/",
          "height": 299
        },
        "id": "JTlLVbeQW11n",
        "outputId": "e3c28e6f-12b8-4d51-e2dd-014d54b223fa"
      },
      "source": [
        "unique,count = np.unique(target,return_counts=True)\n",
        "plt.bar(CATEGORIES,count)"
      ],
      "execution_count": 10,
      "outputs": [
        {
          "output_type": "execute_result",
          "data": {
            "text/plain": [
              "<BarContainer object of 2 artists>"
            ]
          },
          "metadata": {
            "tags": []
          },
          "execution_count": 10
        },
        {
          "output_type": "display_data",
          "data": {
            "image/png": "[encoded data removed]",
            "text/plain": [
              "<Figure size 432x288 with 1 Axes>"
            ]
          },
          "metadata": {
            "tags": [],
            "needs_background": "light"
          }
        },
        {
          "output_type": "stream",
          "text": [
            "time: 174 ms (started: 2021-04-27 15:18:54 +00:00)\n"
          ],
          "name": "stdout"
        }
      ]
    },
    {
      "cell_type": "code",
      "metadata": {
        "colab": {
          "base_uri": "https://localhost:8080/"
        },
        "id": "s75onLcSXN5X",
        "outputId": "fe092848-db8f-458a-a3d7-640284edcd90"
      },
      "source": [
        "# Split data into traning and testing"
      ],
      "execution_count": 11,
      "outputs": [
        {
          "output_type": "stream",
          "text": [
            "time: 960 µs (started: 2021-04-27 15:18:54 +00:00)\n"
          ],
          "name": "stdout"
        }
      ]
    },
    {
      "cell_type": "code",
      "metadata": {
        "colab": {
          "base_uri": "https://localhost:8080/"
        },
        "id": "xqHahwf4XY3v",
        "outputId": "90f8f0d1-1109-444d-ab9c-3a917350f173"
      },
      "source": [
        "\n",
        "from sklearn.model_selection import train_test_split\n",
        "\n",
        "x_train,x_test,y_train,y_test = train_test_split(flatten_data,target,test_size=0.3,random_state=109)\n"
      ],
      "execution_count": 12,
      "outputs": [
        {
          "output_type": "stream",
          "text": [
            "time: 257 ms (started: 2021-04-27 15:18:54 +00:00)\n"
          ],
          "name": "stdout"
        }
      ]
    },
    {
      "cell_type": "code",
      "metadata": {
        "colab": {
          "base_uri": "https://localhost:8080/"
        },
        "id": "29H0rOobYMvh",
        "outputId": "159f38e6-3851-43e4-e554-d8bd282ceb6f"
      },
      "source": [
        "from sklearn.model_selection import GridSearchCV\n",
        "from sklearn import svm\n",
        "\n",
        "param_grid = [\n",
        "              {'C':  [1,10,100,1000],'kernel':['linear']},\n",
        "              {'C':  [1,10,100,1000],'gamma':[0.001,0.0001],'kernel':['rbf']},\n",
        "]\n",
        "\n",
        "svc = svm.SVC(probability=True)\n",
        "clf =   GridSearchCV(svc,param_grid)\n",
        "\n",
        "clf.fit(x_train,y_train)"
      ],
      "execution_count": 13,
      "outputs": [
        {
          "output_type": "execute_result",
          "data": {
            "text/plain": [
              "GridSearchCV(cv=None, error_score=nan,\n",
              "             estimator=SVC(C=1.0, break_ties=False, cache_size=200,\n",
              "                           class_weight=None, coef0=0.0,\n",
              "                           decision_function_shape='ovr', degree=3,\n",
              "                           gamma='scale', kernel='rbf', max_iter=-1,\n",
              "                           probability=True, random_state=None, shrinking=True,\n",
              "                           tol=0.001, verbose=False),\n",
              "             iid='deprecated', n_jobs=None,\n",
              "             param_grid=[{'C': [1, 10, 100, 1000], 'kernel': ['linear']},\n",
              "                         {'C': [1, 10, 100, 1000], 'gamma': [0.001, 0.0001],\n",
              "                          'kernel': ['rbf']}],\n",
              "             pre_dispatch='2*n_jobs', refit=True, return_train_score=False,\n",
              "             scoring=None, verbose=0)"
            ]
          },
          "metadata": {
            "tags": []
          },
          "execution_count": 13
        },
        {
          "output_type": "stream",
          "text": [
            "time: 36.7 s (started: 2021-04-27 15:18:54 +00:00)\n"
          ],
          "name": "stdout"
        }
      ]
    },
    {
      "cell_type": "code",
      "metadata": {
        "colab": {
          "base_uri": "https://localhost:8080/"
        },
        "id": "XsdB-INcak3k",
        "outputId": "c7f6a55a-7cae-4667-c1aa-e92d7068e5d7"
      },
      "source": [
        "y_pred = clf.predict(x_test)\n",
        "y_pred"
      ],
      "execution_count": 14,
      "outputs": [
        {
          "output_type": "execute_result",
          "data": {
            "text/plain": [
              "array([1, 0, 0, 1, 1, 0, 1, 1, 0, 1, 1, 1, 1, 0, 1, 1, 0, 0])"
            ]
          },
          "metadata": {
            "tags": []
          },
          "execution_count": 14
        },
        {
          "output_type": "stream",
          "text": [
            "time: 43.8 ms (started: 2021-04-27 15:19:31 +00:00)\n"
          ],
          "name": "stdout"
        }
      ]
    },
    {
      "cell_type": "code",
      "metadata": {
        "colab": {
          "base_uri": "https://localhost:8080/"
        },
        "id": "uNBHc_5ObdLT",
        "outputId": "652466a6-af79-4c82-b873-787ca2c34b8d"
      },
      "source": [
        "y_test"
      ],
      "execution_count": 15,
      "outputs": [
        {
          "output_type": "execute_result",
          "data": {
            "text/plain": [
              "array([1, 0, 0, 1, 1, 0, 1, 1, 0, 1, 1, 1, 1, 1, 1, 1, 0, 0])"
            ]
          },
          "metadata": {
            "tags": []
          },
          "execution_count": 15
        },
        {
          "output_type": "stream",
          "text": [
            "time: 3.88 ms (started: 2021-04-27 15:19:31 +00:00)\n"
          ],
          "name": "stdout"
        }
      ]
    },
    {
      "cell_type": "code",
      "metadata": {
        "colab": {
          "base_uri": "https://localhost:8080/"
        },
        "id": "h1VMIO8nbfDs",
        "outputId": "3cfde0b1-5179-4c1e-a910-69c50c8d4e76"
      },
      "source": [
        "from sklearn.metrics import accuracy_score,confusion_matrix"
      ],
      "execution_count": 16,
      "outputs": [
        {
          "output_type": "stream",
          "text": [
            "time: 1.27 ms (started: 2021-04-27 15:19:31 +00:00)\n"
          ],
          "name": "stdout"
        }
      ]
    },
    {
      "cell_type": "code",
      "metadata": {
        "colab": {
          "base_uri": "https://localhost:8080/"
        },
        "id": "8moX28T5br-H",
        "outputId": "62941897-8a2e-4bc0-f218-2942a435ac8a"
      },
      "source": [
        "accuracy_score(y_pred,y_test)"
      ],
      "execution_count": 17,
      "outputs": [
        {
          "output_type": "execute_result",
          "data": {
            "text/plain": [
              "0.9444444444444444"
            ]
          },
          "metadata": {
            "tags": []
          },
          "execution_count": 17
        },
        {
          "output_type": "stream",
          "text": [
            "time: 4.95 ms (started: 2021-04-27 15:19:31 +00:00)\n"
          ],
          "name": "stdout"
        }
      ]
    },
    {
      "cell_type": "code",
      "metadata": {
        "colab": {
          "base_uri": "https://localhost:8080/"
        },
        "id": "un97shPrbv1X",
        "outputId": "fbbb1723-d0bc-409a-ee30-58db1ac8232c"
      },
      "source": [
        "confusion_matrix(y_pred,y_test) #evalution "
      ],
      "execution_count": 18,
      "outputs": [
        {
          "output_type": "execute_result",
          "data": {
            "text/plain": [
              "array([[ 6,  1],\n",
              "       [ 0, 11]])"
            ]
          },
          "metadata": {
            "tags": []
          },
          "execution_count": 18
        },
        {
          "output_type": "stream",
          "text": [
            "time: 5.26 ms (started: 2021-04-27 15:19:31 +00:00)\n"
          ],
          "name": "stdout"
        }
      ]
    },
    {
      "cell_type": "code",
      "metadata": {
        "colab": {
          "base_uri": "https://localhost:8080/"
        },
        "id": "IgBkA8Otb1mi",
        "outputId": "4ab9f260-e536-4972-a674-3fb73d97450b"
      },
      "source": [
        "\n",
        "# Save model using Pickle library\n",
        "import pickle\n",
        "pickle.dump(clf,open('img_model.p','wb'))"
      ],
      "execution_count": 19,
      "outputs": [
        {
          "output_type": "stream",
          "text": [
            "time: 16.5 ms (started: 2021-04-27 15:19:31 +00:00)\n"
          ],
          "name": "stdout"
        }
      ]
    },
    {
      "cell_type": "code",
      "metadata": {
        "colab": {
          "base_uri": "https://localhost:8080/"
        },
        "id": "2Yk6roL3crBu",
        "outputId": "ca03edf3-fe24-44ea-ae6b-99eccf796147"
      },
      "source": [
        "model =  pickle.load(open('img_model.p','rb'))"
      ],
      "execution_count": 20,
      "outputs": [
        {
          "output_type": "stream",
          "text": [
            "time: 8.54 ms (started: 2021-04-27 15:19:31 +00:00)\n"
          ],
          "name": "stdout"
        }
      ]
    },
    {
      "cell_type": "code",
      "metadata": {
        "colab": {
          "base_uri": "https://localhost:8080/"
        },
        "id": "FB9iOEyC6B3g",
        "outputId": "5cca33ef-c34b-4a4a-9b1b-a858fe852ece"
      },
      "source": [
        "y_prob_pred= model.predict_proba(x_test)\n",
        "y_prob_pred[0]"
      ],
      "execution_count": 21,
      "outputs": [
        {
          "output_type": "execute_result",
          "data": {
            "text/plain": [
              "array([0.00480873, 0.99519127])"
            ]
          },
          "metadata": {
            "tags": []
          },
          "execution_count": 21
        },
        {
          "output_type": "stream",
          "text": [
            "time: 47.5 ms (started: 2021-04-27 15:19:31 +00:00)\n"
          ],
          "name": "stdout"
        }
      ]
    },
    {
      "cell_type": "code",
      "metadata": {
        "colab": {
          "base_uri": "https://localhost:8080/",
          "height": 357
        },
        "id": "2a_Madb9dN7D",
        "outputId": "0ce3a095-cd52-4b6e-d1e4-b433f8be60b2"
      },
      "source": [
        "flatten_data = []\n",
        "url =  input(\"Enter your URL\")\n",
        "img =  imread(url)\n",
        "img_resize = resize(img,(150,150,3))\n",
        "flatten_data.append(img_resize.flatten())\n",
        "flatten_data = np.array(flatten_data)\n",
        "print(img.shape)\n",
        "plt.imshow(img_resize)\n",
        "y_out = model.predict(flatten_data)\n",
        "y_out = CATEGORIES[y_out[0]]\n",
        "print(f'predicted output:{y_out}')\n"
      ],
      "execution_count": null,
      "outputs": [
        {
          "output_type": "stream",
          "text": [
            "Enter your URLhttps://rukminim1.flixcart.com/image/612/612/klmmrgw0/cycle/e/6/3/drd-orator-20-cycle-for-kids-semi-assembled-20-20-dolfin-single-original-imagyzv8gesmtt2n.jpeg?q=70\n",
            "(430, 612, 3)\n",
            "predicted output:bicycle\n"
          ],
          "name": "stdout"
        },
        {
          "output_type": "display_data",
          "data": {
            "image/png": "[encoded data removed]",
            "text/plain": [
              "<Figure size 432x288 with 1 Axes>"
            ]
          },
          "metadata": {
            "tags": []
          }
        },
        {
          "output_type": "stream",
          "text": [
            "time: 1min 1s (started: 2021-04-25 17:54:56 +00:00)\n"
          ],
          "name": "stdout"
        }
      ]
    },
    {
      "cell_type": "code",
      "metadata": {
        "colab": {
          "base_uri": "https://localhost:8080/"
        },
        "id": "P8MkgBDIe0sL",
        "outputId": "9930199b-b4b7-4e12-b8b9-74ba1644d5f8"
      },
      "source": [
        "!pip install streamlit --quiet\n",
        "!pip install pyngrok==4.1.1 --quiet\n",
        "from pyngrok import ngrok"
      ],
      "execution_count": 22,
      "outputs": [
        {
          "output_type": "stream",
          "text": [
            "\u001b[K     |████████████████████████████████| 8.2MB 5.9MB/s \n",
            "\u001b[K     |████████████████████████████████| 81kB 6.1MB/s \n",
            "\u001b[K     |████████████████████████████████| 4.2MB 41.0MB/s \n",
            "\u001b[K     |████████████████████████████████| 112kB 53.7MB/s \n",
            "\u001b[K     |████████████████████████████████| 163kB 46.3MB/s \n",
            "\u001b[K     |████████████████████████████████| 122kB 39.5MB/s \n",
            "\u001b[K     |████████████████████████████████| 71kB 4.8MB/s \n",
            "\u001b[?25h  Building wheel for blinker (setup.py) ... \u001b[?25l\u001b[?25hdone\n",
            "\u001b[31mERROR: google-colab 1.0.0 has requirement ipykernel~=4.10, but you'll have ipykernel 5.5.3 which is incompatible.\u001b[0m\n",
            "  Building wheel for pyngrok (setup.py) ... \u001b[?25l\u001b[?25hdone\n",
            "time: 19.2 s (started: 2021-04-27 15:19:31 +00:00)\n"
          ],
          "name": "stdout"
        }
      ]
    },
    {
      "cell_type": "code",
      "metadata": {
        "colab": {
          "base_uri": "https://localhost:8080/"
        },
        "id": "tGmZ5seTCCRi",
        "outputId": "867c5eb9-237c-42eb-9498-92f6fea4ae16"
      },
      "source": [
        "# Deployment\n",
        "# 1.WebPage :html,jS,CSS/- flask/django\n",
        "# 2.WebApp : Sreamlite  \n",
        "# 3.mobile app - kotlin/java\n"
      ],
      "execution_count": 23,
      "outputs": [
        {
          "output_type": "stream",
          "text": [
            "time: 1.77 ms (started: 2021-04-27 15:19:50 +00:00)\n"
          ],
          "name": "stdout"
        }
      ]
    },
    {
      "cell_type": "code",
      "metadata": {
        "id": "wwOwvsg2F8i7"
      },
      "source": [
        ""
      ],
      "execution_count": 23,
      "outputs": []
    },
    {
      "cell_type": "code",
      "metadata": {
        "colab": {
          "base_uri": "https://localhost:8080/"
        },
        "id": "7SYkpu_cDvZS",
        "outputId": "9ef6395f-30a9-492a-c477-22810515bd21"
      },
      "source": [
        "%%writefile app.py\n",
        "import streamlit as st\n",
        "import os\n",
        "import pandas as pd\n",
        "import matplotlib.pyplot as plt\n",
        "import numpy as np\n",
        "from skimage.io import imread\n",
        "from skimage.transform import resize \n",
        "import pickle\n",
        "from PIL import Image\n",
        "from sklearn.metrics import accuracy_score,confusion_matrix,classification_report\n",
        "from sklearn.metrics import plot_confusion_matrix,plot_roc_curve,plot_precision_recall_curve\n",
        "from sklearn.metrics import roc_curve\n",
        "from sklearn.metrics import precision_score\n",
        "from sklearn.linear_model import LogisticRegression\n",
        "from sklearn.tree import DecisionTreeClassifier\n",
        "from sklearn.feature_extraction.text import TfidfVectorizer\n",
        "from sklearn.naive_bayes import MultinomialNB\n",
        "from sklearn.model_selection import train_test_split\n",
        "from sklearn.model_selection import GridSearchCV\n",
        "from sklearn import svm\n",
        "from io import BytesIO\n",
        "\n",
        "\n",
        "\n",
        "def main():\n",
        "  # model =  pickle.load(open('img_model.p','rb'))\n",
        "  st.title(\"WEL-COME TO IMAGE CLASSIFICATION\")\n",
        "\n",
        "  def load_data():\n",
        "    DATADIR = '/content/drive/MyDrive/ML Internship SmartKnower/ML/Minor Project/images'\n",
        "    CATEGORIES =['Rainy','bicycle']\n",
        "    return CATEGORIES\n",
        "    \n",
        "\n",
        "  def flat_target_img():\n",
        "    target=[]\n",
        "    images = []\n",
        "    flatten_data =[]\n",
        "\n",
        "    DATADIR = '/content/drive/MyDrive/ML Internship SmartKnower/ML/Minor Project/images'\n",
        "    CATEGORIES =['Rainy','bicycle']\n",
        "\n",
        "    for category in  CATEGORIES:\n",
        "      # print(category)\n",
        "      class_num = CATEGORIES.index(category)  # lable encoding the values\n",
        "      path = os.path.join(DATADIR,category) #create the path to use all the images\n",
        "      for img in os.listdir(path):\n",
        "        img_arr =  imread(os.path.join(path,img))\n",
        "        img_resize = resize(img_arr,(150,150,3)) # Value gets converted 0-1 from 0-255 (Normalization)\n",
        "        flatten_data.append(np.ndarray.flatten(img_resize))\n",
        "        images.append(img_resize)\n",
        "        target.append(class_num)\n",
        "\n",
        "    flatten_data = np.array(flatten_data)\n",
        "    target = np.array(target)\n",
        "    images =np.array(images)\n",
        "    return flatten_data,target,images\n",
        "\n",
        "\n",
        "  def split():\n",
        "    flatten_data,target,images = flat_target_img()\n",
        "    x_train,x_test,y_train,y_test = train_test_split(flatten_data,target,test_size=0.3,random_state=109)\n",
        "    return x_train,x_test,y_train,y_test\n",
        "\n",
        "  def plot_metrics():\n",
        "    metrics = st.selectbox(\"What metrics to plot?\",(\"Select the Options\",\"Confusion matrix\",\"ROC\",\"Precision Recall Curve\"))\n",
        "    st.set_option('deprecation.showPyplotGlobalUse', False)\n",
        "    model =  pickle.load(open('img_model.p','rb'))\n",
        "    if \"Confusion matrix\" in metrics:\n",
        "      st.subheader(\"Confusion Matrix\")\n",
        "      plot_confusion_matrix(model,x_test,y_test,display_labels=data)\n",
        "      st.pyplot()\n",
        "    if \"ROC\" in metrics:\n",
        "      final = model.predict_proba(x_test)[:,1]\n",
        "      fpr,tpr,thresholds=roc_curve(y_test,final,drop_intermediate=True)\n",
        "      st.subheader(\"ROC\")\n",
        "     \n",
        "      plot_roc_curve(model,x_test,y_test,c='orange',linestyle='--')\n",
        "      st.pyplot()\n",
        "    if \"Precision Recall Curve\" in metrics:\n",
        "      st.subheader(\"Precision Recall Curve\")\n",
        "      plot_precision_recall_curve(model,x_test,y_test)\n",
        "      st.pyplot()\n",
        "          \n",
        "\n",
        "\n",
        "  def dataAnalysis():\n",
        "    CATEGORIES = load_data()\n",
        "    model =  pickle.load(open('img_model.p','rb'))\n",
        "    flatten_data,target,images = flat_target_img()\n",
        "    x_train,x_test,y_train,y_test = split()\n",
        "    st.write(\"Counts of Images for Using Testing\")\n",
        "    unique,count = np.unique(target,return_counts=True)\n",
        "    plt.bar(CATEGORIES,count,width=0.4,label='Counts of images') \n",
        "    plt.xlabel('COUNTS')\n",
        "    plt.ylabel('Typs')\n",
        "    plt.legend()\n",
        "    st.set_option('deprecation.showPyplotGlobalUse', False)\n",
        "    st.pyplot()\n",
        "    # loc = 'left'\n",
        "    # relative=True\n",
        "    # width = 0.35\n",
        "    # if loc == 'left':\n",
        "    #     n = -0.5\n",
        "    # elif loc == 'right':\n",
        "    #     n = 0.5\n",
        "    # unique, counts = np.unique(flatten_data, return_counts=True)\n",
        "    # sorted_index = np.argsort(unique)\n",
        "    # unique = unique[sorted_index]\n",
        "     \n",
        "    # if relative:\n",
        "    #     # plot as a percentage\n",
        "    #     counts = 100*counts[sorted_index]/len(flatten_data)\n",
        "    #     ylabel_text = '% count'\n",
        "    # else:\n",
        "    #     # plot counts\n",
        "    #     counts = counts[sorted_index]\n",
        "    #     ylabel_text = 'count'\n",
        "         \n",
        "    # xtemp = np.arange(len(unique))\n",
        "     \n",
        "    # plt.bar(xtemp + n*width, counts, align='center', alpha=.7, width=width)\n",
        "    # plt.xticks(xtemp, unique, rotation=45)\n",
        "    # plt.xlabel('equipment type')\n",
        "    # plt.ylabel(ylabel_text)\n",
        " \n",
        "    # plt.suptitle('relative amount of photos per type')\n",
        "    # plot_bar(y_train, loc='left')\n",
        "    # plot_bar(y_test, loc='right')\n",
        "    # plt.legend([\n",
        "    #     'train ({0} photos)'.format(len(y_train)), \n",
        "    #     'test ({0} photos)'.format(len(y_test))\n",
        "    # ]);\n",
        "    \n",
        "    y_pred = model.predict(x_test)\n",
        "    accu = accuracy_score(y_pred,y_test)\n",
        "    accu = accu*100\n",
        "    accu = float(\"{:.2f}\".format(accu))\n",
        "    matrix=confusion_matrix(y_pred,y_test)\n",
        "    report = classification_report(y_pred,y_test)\n",
        "    st.write(f'Accuracy : {accu}%')\n",
        "    # st.write(f'Confusion Matrix:{matrix}')\n",
        "    st.write(f'Classification Report : {report}')\n",
        "\n",
        "  def predict(data):\n",
        "    # st.title('Image Classification')\n",
        "    model =  pickle.load(open('img_model.p','rb'))\n",
        "    st.text('Upload Image')    \n",
        "    upload_file = st.file_uploader(\"choose an image....\",type=\"jpg\")\n",
        "    if upload_file is not None:\n",
        "      img = Image.open(upload_file)\n",
        "      st.image(img,caption=\"uploaded Image\")\n",
        "\n",
        "      if st.button('PRIDICT'):\n",
        "        \n",
        "        # CATEGORIES =['Rainy' ,'Winter','bicycle']\n",
        "        st.write('Result...')\n",
        "        flatten_data = []\n",
        "        img = np.array(img)\n",
        "        img_resize = resize(img,(150,150,3))\n",
        "        flatten_data.append(img_resize.flatten())\n",
        "        flatten_data = np.array(flatten_data)\n",
        "      \n",
        "        y_out = model.predict(flatten_data)\n",
        "        y_out = data[y_out[0]]\n",
        "        st.write(f'predicted output : {y_out.upper()}')\n",
        "        y_prob_pred = model.predict_proba(flatten_data)\n",
        "        st.write(f'Probablity : {y_prob_pred}')\n",
        "        \n",
        "      \n",
        "  def prediction_url(data):\n",
        "    model =  pickle.load(open('img_model.p','rb'))\n",
        "    flatten_data = []\n",
        "    url =  st.text_input(\"Enter your URL\")\n",
        "    img =  imread(url)\n",
        "    img_resize = resize(img,(150,150,3))\n",
        "    flatten_data.append(img_resize.flatten())\n",
        "    flatten_data = np.array(flatten_data)\n",
        "    print(img.shape)\n",
        "    plt.imshow(img_resize)\n",
        "    y_out = model.predict([flatten_data])\n",
        "    y_out = CATEGORIES[y_out[0]]\n",
        "    print(f'predicted output:{y_out}')\n",
        "\n",
        "\n",
        "  data = load_data()\n",
        "  st.sidebar.title('Select Parameter')\n",
        "  x_train,x_test,y_train,y_test = split()\n",
        "  classifier = st.sidebar.selectbox(\"Classifier\",(\"Select Option\",\"Image Classification\",\"Logistic Regression\",\"Decision Tree\",\"Naive Bayes\"))\n",
        " \n",
        "\n",
        "  if classifier == \"Logistic Regression\":\n",
        "    st.sidebar.subheader(\"Parameters: \")\n",
        "    iterations = st.sidebar.number_input(\"Iterations\",100,1000,step=5,key='iterations')\n",
        "    C = st.sidebar.number_input(\"Regularization Factor\",0.01,1.0,step=0.01,key='C')\n",
        "    solver = st.sidebar.radio(\"Solver\",(\"newton-cg\", \"lbfgs\", \"liblinear\", \"sag\", \"saga\"),key='solver')\n",
        "    # metrics = st.sidebar.multiselect(\"What metrics to plot?\",(\"Confusion_matrix\",\"ROC\",\"Precision Recall Curve\"))\n",
        "    if st.sidebar.button(\"Classify\"):\n",
        "      model = LogisticRegression(max_iter=iterations,solver=solver,C=C)\n",
        "      model.fit(x_train,y_train)\n",
        "      ypred = model.predict(x_test)\n",
        "      st.write(\"Model Accuracy: \",model.score(x_test,y_test))\n",
        "      st.write(\"Model Precision: \", precision_score(y_test,ypred,labels=data))\n",
        "      matrix=confusion_matrix(ypred,y_test)\n",
        "      report = classification_report(ypred,y_test)\n",
        "      # st.write(f'Accuracy : {accu}%')\n",
        "      # st.write(f'Confusion Matrix:{matrix}')\n",
        "      st.write(f'Classification Report : {report}')\n",
        "    ghraph= st.sidebar.checkbox(\"Ghraps\",key=1)\n",
        "    # if(ghraph):\n",
        "    #   st.subheader(\"Ghraph\")\n",
        "    #   plot_metrics(model)\n",
        "      \n",
        "\n",
        "  if classifier == \"Decision Tree\":\n",
        "    st.sidebar.subheader(\"Parameters: \")\n",
        "    max_leaf_nodes = st.sidebar.number_input(\"Max Leaf Nodes\",50,200,step=1,key='max_leaf_nodes')\n",
        "    criterion = st.sidebar.radio(\"Criterion\",(\"gini\", \"entropy\"),key='criterion')\n",
        "    max_features = st.sidebar.radio(\"Features\",(\"auto\", \"sqrt\", \"log2\"),key='max_features')\n",
        "    # metrics = st.sidebar.multiselect(\"What metrics to plot?\",(\"Confusion_matrix\",\"ROC\",\"Precision Recall Curve\"))\n",
        "    if st.sidebar.button(\"Classify\"):\n",
        "      model = DecisionTreeClassifier(max_leaf_nodes=max_leaf_nodes,criterion=criterion,max_features=max_features)\n",
        "      model.fit(x_train,y_train)\n",
        "      ypred = model.predict(x_test)\n",
        "      st.write(\"Model Accuracy: \",model.score(x_test,y_test))\n",
        "      st.write(\"Model Precision: \", precision_score(y_test,ypred,labels=data))\n",
        "      matrix=confusion_matrix(ypred,y_test)\n",
        "      report = classification_report(ypred,y_test)\n",
        "      # st.write(f'Accuracy : {accu}%')\n",
        "      # st.write(f'Confusion Matrix:{matrix}')\n",
        "      st.write(f'Classification Report : {report}')\n",
        "      # plot_metrics()\n",
        "\n",
        "\n",
        "  if classifier == \"Image Classification\":\n",
        "    option = st.sidebar.selectbox(\"Perform The Task\",(\"Select the Options\",\"Datasets\",\"Upload Image to Predict\",\"Using Online image url\",\"Ananlysis\",\"Ghraphs\"))\n",
        "\n",
        "    if \"Datasets\" in option:\n",
        "      ch = st.sidebar.checkbox(\"Show Dataset\",True,key=1)\n",
        "      if(ch):\n",
        "        st.subheader(\"Types of Category for image classification\")\n",
        "        st.write(data)\n",
        "\n",
        "    if \"Upload Image to Predict\" in option:\n",
        "      predi = st.sidebar.checkbox(\"Upload the image for prdiction\",key=1)\n",
        "      if(predi):\n",
        "        st.subheader(\"Prediction\")\n",
        "        predict(data)\n",
        "    \n",
        "    if \"Using Online image url\" in option:\n",
        "      predi_url = st.sidebar.checkbox(\"By Using Online image url for prdiction\",key=1)\n",
        "      if(predi_url):\n",
        "        st.subheader(\"Prediction\")\n",
        "        prediction_url(data)\n",
        "\n",
        "    if \"Ananlysis\" in option:\n",
        "      analysis = st.sidebar.checkbox(\"Show Analysis and Confision Matrix\",key=1)\n",
        "      if(analysis):\n",
        "        st.subheader(\"Classification Report\")\n",
        "        dataAnalysis()\n",
        "\n",
        "   \n",
        "    if \"Ghraph\" in option:\n",
        "      ghraph= st.sidebar.checkbox(\"Ghraps\",key=1)\n",
        "      if(ghraph):\n",
        "        st.subheader(\"Ghraph\")\n",
        "        plot_metrics()\n",
        "      \n",
        "  if classifier == \"Naive Bayes\":\n",
        "    vect =  TfidfVectorizer()\n",
        "    x_train = vect.fit_transform(x_train)\n",
        "    x_test =  vect.transform(x_test)\n",
        "    metrics = st.sidebar.multiselect(\"What metrics to plot?\",(\"Confusion_matrix\",\"ROC\",\"Precision Recall Curve\"))\n",
        "    model = MultinomialNB()\n",
        "    model.fit(x_train,y_train)\n",
        "    y_pred = model.predict(x_test)\n",
        "    st.write(\"Model Accuracy: \",model.score(x_test,y_test))\n",
        "    st.write(\"Model Precision: \", precision_score(y_test,y_pred,labels=data))\n",
        "    # plot_metrics()\n",
        "\n",
        "if __name__ == '__main__':\n",
        "  main()"
      ],
      "execution_count": 24,
      "outputs": [
        {
          "output_type": "stream",
          "text": [
            "Writing app.py\n",
            "time: 12.9 ms (started: 2021-04-27 15:19:50 +00:00)\n"
          ],
          "name": "stdout"
        }
      ]
    },
    {
      "cell_type": "code",
      "metadata": {
        "id": "hFdbEyNbJmUt"
      },
      "source": [
        "  "
      ],
      "execution_count": null,
      "outputs": []
    },
    {
      "cell_type": "code",
      "metadata": {
        "colab": {
          "base_uri": "https://localhost:8080/",
          "height": 52
        },
        "id": "b_DeHEiB_3pg",
        "outputId": "ab3c62af-033e-4f97-8f00-8de6f70a9302"
      },
      "source": [
        "!nohup streamlit run app.py &\n",
        "url = ngrok.connect(port='8501')\n",
        "url"
      ],
      "execution_count": 25,
      "outputs": [
        {
          "output_type": "stream",
          "text": [
            "nohup: appending output to 'nohup.out'\n"
          ],
          "name": "stdout"
        },
        {
          "output_type": "execute_result",
          "data": {
            "application/vnd.google.colaboratory.intrinsic+json": {
              "type": "string"
            },
            "text/plain": [
              "'http://51412f86ee78.ngrok.io'"
            ]
          },
          "metadata": {
            "tags": []
          },
          "execution_count": 25
        },
        {
          "output_type": "stream",
          "text": [
            "time: 1.4 s (started: 2021-04-27 15:19:50 +00:00)\n"
          ],
          "name": "stdout"
        }
      ]
    },
    {
      "cell_type": "code",
      "metadata": {
        "id": "EoN75_jqAKzH"
      },
      "source": [
        ""
      ],
      "execution_count": null,
      "outputs": []
    }
  ]
}